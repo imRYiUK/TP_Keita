{
 "cells": [
  {
   "cell_type": "code",
   "id": "initial_id",
   "metadata": {
    "collapsed": true,
    "ExecuteTime": {
     "end_time": "2024-12-12T13:44:24.661082Z",
     "start_time": "2024-12-12T13:44:21.160721Z"
    }
   },
   "source": [
    "import pandas as pd\n",
    "from sklearn.model_selection import train_test_split, RandomizedSearchCV\n",
    "from sklearn.ensemble import RandomForestClassifier\n",
    "from sklearn.metrics import classification_report, accuracy_score\n",
    "from scipy.stats import randint\n",
    "from sklearn.datasets import load_iris\n",
    "\n",
    "# Charger le dataset Iris\n",
    "data = load_iris()\n",
    "X = pd.DataFrame(data.data, columns=data.feature_names)\n",
    "y = pd.Series(data.target, name=\"species\")\n",
    "\n",
    "# Diviser les données en ensembles d'entraînement et de test\n",
    "X_train, X_test, y_train, y_test = train_test_split(X, y, test_size=0.2, random_state=42)\n",
    "\n",
    "# Définir le modèle et les distributions des hyperparamètres pour la recherche\n",
    "model = RandomForestClassifier(random_state=42)\n",
    "param_dist_random_forest = {\n",
    "    'n_estimators': randint(50, 200),         # Nombre d'arbres dans la forêt\n",
    "    'max_depth': [10, 20, 30, None],          # Profondeur maximale des arbres\n",
    "    'min_samples_split': randint(2, 10),      # Nombre minimum d'échantillons pour diviser un nœud\n",
    "    'min_samples_leaf': randint(1, 5)         # Nombre minimum d'échantillons dans une feuille\n",
    "}\n",
    "\n",
    "# Effectuer la recherche aléatoire avec validation croisée\n",
    "random_search_random_forest = RandomizedSearchCV(\n",
    "    estimator=model,\n",
    "    param_distributions=param_dist_random_forest,\n",
    "    n_iter=50,  # Nombre d'évaluations\n",
    "    cv=5,\n",
    "    scoring='accuracy',\n",
    "    random_state=42,\n",
    "    n_jobs=-1\n",
    ")\n",
    "random_search_random_forest.fit(X_train, y_train)\n",
    "\n",
    "# Meilleurs hyperparamètres trouvés\n",
    "print(\"Meilleurs hyperparamètres :\", random_search_random_forest.best_params_)\n",
    "\n",
    "# Prédictions sur l'ensemble de test\n",
    "y_pred = random_search_random_forest.best_estimator_.predict(X_test)\n",
    "\n",
    "# Rapport de classification\n",
    "print(\"\\nRapport de classification :\\n\")\n",
    "print(classification_report(y_test, y_pred))\n",
    "\n",
    "# Méthode pour évaluer le modèle\n",
    "def evaluate_model(model, X_test, y_test):\n",
    "    accuracy = accuracy_score(y_test, model.predict(X_test))\n",
    "    print(f\"\\nPrécision du modèle : {accuracy:.2f}\")\n",
    "    return accuracy\n",
    "\n",
    "# Évaluer le modèle\n",
    "evaluate_model(random_search_random_forest.best_estimator_, X_test, y_test)\n"
   ],
   "outputs": [
    {
     "name": "stdout",
     "output_type": "stream",
     "text": [
      "Meilleurs hyperparamètres : {'max_depth': None, 'min_samples_leaf': 3, 'min_samples_split': 4, 'n_estimators': 82}\n",
      "\n",
      "Rapport de classification :\n",
      "\n",
      "              precision    recall  f1-score   support\n",
      "\n",
      "           0       1.00      1.00      1.00        10\n",
      "           1       1.00      1.00      1.00         9\n",
      "           2       1.00      1.00      1.00        11\n",
      "\n",
      "    accuracy                           1.00        30\n",
      "   macro avg       1.00      1.00      1.00        30\n",
      "weighted avg       1.00      1.00      1.00        30\n",
      "\n",
      "\n",
      "Précision du modèle : 1.00\n"
     ]
    },
    {
     "data": {
      "text/plain": [
       "1.0"
      ]
     },
     "execution_count": 2,
     "metadata": {},
     "output_type": "execute_result"
    }
   ],
   "execution_count": 2
  }
 ],
 "metadata": {
  "kernelspec": {
   "display_name": "Python 3",
   "language": "python",
   "name": "python3"
  },
  "language_info": {
   "codemirror_mode": {
    "name": "ipython",
    "version": 2
   },
   "file_extension": ".py",
   "mimetype": "text/x-python",
   "name": "python",
   "nbconvert_exporter": "python",
   "pygments_lexer": "ipython2",
   "version": "2.7.6"
  }
 },
 "nbformat": 4,
 "nbformat_minor": 5
}
