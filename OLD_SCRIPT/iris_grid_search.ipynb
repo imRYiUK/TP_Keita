{
 "cells": [
  {
   "cell_type": "code",
   "id": "1f5260c8ea03ead9",
   "metadata": {},
   "source": [
    "from sklearn.datasets import load_iris\n",
    "from sklearn.model_selection import train_test_split, GridSearchCV\n",
    "from sklearn.svm import SVC\n",
    "from sklearn.metrics import classification_report, accuracy_score"
   ],
   "outputs": [],
   "execution_count": null
  },
  {
   "metadata": {},
   "cell_type": "code",
   "outputs": [],
   "execution_count": null,
   "source": [
    "# Charger les données Iris\n",
    "data = load_iris()\n",
    "X, y = data.data, data.target"
   ],
   "id": "abd0e8576cfde839"
  },
  {
   "metadata": {},
   "cell_type": "code",
   "outputs": [],
   "execution_count": null,
   "source": [
    "# Diviser les données en ensembles d'entraînement et de test\n",
    "X_train, X_test, y_train, y_test = train_test_split(X, y, test_size=0.2, random_state=42)"
   ],
   "id": "fd010a9d7871dea9"
  },
  {
   "metadata": {},
   "cell_type": "code",
   "outputs": [],
   "execution_count": null,
   "source": [
    "# Définir le modèle et les hyperparamètres pour la recherche\n",
    "model = SVC()\n",
    "param_grid = {\n",
    "    'C': [0.1, 1, 10, 100],\n",
    "    'gamma': [1, 0.1, 0.01, 0.001],\n",
    "    'kernel': ['linear', 'rbf', 'poly']\n",
    "}"
   ],
   "id": "52be7e216d4b24b1"
  },
  {
   "metadata": {},
   "cell_type": "code",
   "outputs": [],
   "execution_count": null,
   "source": [
    "# Effectuer la recherche avec validation croisée\n",
    "grid_search = GridSearchCV(estimator=model, param_grid=param_grid, cv=5, scoring='accuracy')\n",
    "grid_search.fit(X_train, y_train)"
   ],
   "id": "cdf85301b62d7107"
  },
  {
   "metadata": {},
   "cell_type": "code",
   "outputs": [],
   "execution_count": null,
   "source": [
    "# Meilleurs hyperparamètres trouvés\n",
    "print(\"Meilleurs hyperparamètres :\", grid_search.best_params_)"
   ],
   "id": "47402af23a05e9d2"
  },
  {
   "metadata": {},
   "cell_type": "code",
   "outputs": [],
   "execution_count": null,
   "source": [
    "# Prédictions sur l'ensemble de test\n",
    "y_pred = grid_search.best_estimator_.predict(X_test)"
   ],
   "id": "3607b2f4693b94d3"
  },
  {
   "metadata": {},
   "cell_type": "code",
   "outputs": [],
   "execution_count": null,
   "source": [
    "# Rapport de classification\n",
    "print(\"\\nRapport de classification :\\n\")\n",
    "print(classification_report(y_test, y_pred, target_names=data.target_names))"
   ],
   "id": "11fe4ece483dd1d4"
  },
  {
   "metadata": {},
   "cell_type": "code",
   "outputs": [],
   "execution_count": null,
   "source": [
    "# Méthode pour évaluer le modèle\n",
    "def evaluate_model(model_type, X_test, y_test):\n",
    "    accuracy = accuracy_score(y_test, model_type.predict(X_test))\n",
    "    print(f\"\\nPrécision du modèle : {accuracy:.2f}\")\n",
    "    return accuracy"
   ],
   "id": "108246687a828992"
  },
  {
   "metadata": {
    "collapsed": true,
    "ExecuteTime": {
     "end_time": "2024-12-11T22:13:45.361131Z",
     "start_time": "2024-12-11T22:13:44.598524Z"
    }
   },
   "cell_type": "code",
   "outputs": [
    {
     "name": "stdout",
     "output_type": "stream",
     "text": [
      "Meilleurs hyperparamètres : {'C': 0.1, 'gamma': 0.1, 'kernel': 'poly'}\n",
      "\n",
      "Rapport de classification :\n",
      "\n",
      "              precision    recall  f1-score   support\n",
      "\n",
      "      setosa       1.00      1.00      1.00        10\n",
      "  versicolor       1.00      1.00      1.00         9\n",
      "   virginica       1.00      1.00      1.00        11\n",
      "\n",
      "    accuracy                           1.00        30\n",
      "   macro avg       1.00      1.00      1.00        30\n",
      "weighted avg       1.00      1.00      1.00        30\n",
      "\n",
      "\n",
      "Précision du modèle : 1.00\n"
     ]
    },
    {
     "data": {
      "text/plain": [
       "1.0"
      ]
     },
     "execution_count": 8,
     "metadata": {},
     "output_type": "execute_result"
    }
   ],
   "execution_count": 8,
   "source": [
    "# Évaluer le modèle\n",
    "evaluate_model(grid_search.best_estimator_, X_test, y_test)"
   ],
   "id": "initial_id"
  }
 ],
 "metadata": {
  "kernelspec": {
   "display_name": "Python 3",
   "language": "python",
   "name": "python3"
  },
  "language_info": {
   "codemirror_mode": {
    "name": "ipython",
    "version": 2
   },
   "file_extension": ".py",
   "mimetype": "text/x-python",
   "name": "python",
   "nbconvert_exporter": "python",
   "pygments_lexer": "ipython2",
   "version": "2.7.6"
  }
 },
 "nbformat": 4,
 "nbformat_minor": 5
}
