{
 "cells": [
  {
   "cell_type": "code",
   "id": "4df57995f55dccb7",
   "metadata": {
    "ExecuteTime": {
     "end_time": "2024-11-25T15:01:54.590837Z",
     "start_time": "2024-11-25T15:01:54.588495Z"
    }
   },
   "source": [
    "import pandas as pd\n",
    "from sklearn.model_selection import train_test_split\n",
    "from sklearn.tree import DecisionTreeClassifier\n",
    "from sklearn.ensemble import RandomForestClassifier\n",
    "from sklearn.metrics import confusion_matrix, precision_score, recall_score"
   ],
   "outputs": [],
   "execution_count": 10
  },
  {
   "metadata": {
    "ExecuteTime": {
     "end_time": "2024-11-25T15:01:54.662467Z",
     "start_time": "2024-11-25T15:01:54.603840Z"
    }
   },
   "cell_type": "code",
   "source": [
    "data = pd.read_csv(\"DatasetmalwareExtrait.csv\")\n",
    "\n",
    "X = data.drop(columns=[\"legitimate\"])  \n",
    "y = data[\"legitimate\"] "
   ],
   "id": "899777c2553efe3e",
   "outputs": [],
   "execution_count": 11
  },
  {
   "metadata": {
    "ExecuteTime": {
     "end_time": "2024-11-25T15:01:54.678099Z",
     "start_time": "2024-11-25T15:01:54.676417Z"
    }
   },
   "cell_type": "code",
   "source": "random=42",
   "id": "7037f916b6f12073",
   "outputs": [],
   "execution_count": 12
  },
  {
   "metadata": {
    "ExecuteTime": {
     "end_time": "2024-11-25T15:01:54.735255Z",
     "start_time": "2024-11-25T15:01:54.720481Z"
    }
   },
   "cell_type": "code",
   "source": "X_train, X_test, y_train, y_test = train_test_split(X, y, test_size=0.3, random_state=random)",
   "id": "a16000e4f5ab6046",
   "outputs": [],
   "execution_count": 13
  },
  {
   "metadata": {
    "ExecuteTime": {
     "end_time": "2024-11-25T15:01:54.935172Z",
     "start_time": "2024-11-25T15:01:54.768678Z"
    }
   },
   "cell_type": "code",
   "source": [
    "tree_model = DecisionTreeClassifier()\n",
    "tree_model.fit(X_train, y_train)\n",
    "tree_predictions = tree_model.predict(X_test)"
   ],
   "id": "c0773876436e3c9b",
   "outputs": [],
   "execution_count": 14
  },
  {
   "metadata": {
    "ExecuteTime": {
     "end_time": "2024-11-25T15:01:58.086108Z",
     "start_time": "2024-11-25T15:01:54.944515Z"
    }
   },
   "cell_type": "code",
   "source": [
    "forest_model = RandomForestClassifier()\n",
    "forest_model.fit(X_train, y_train)\n",
    "forest_predictions = forest_model.predict(X_test)"
   ],
   "id": "9ae03198af77587b",
   "outputs": [],
   "execution_count": 15
  },
  {
   "metadata": {
    "ExecuteTime": {
     "end_time": "2024-11-25T15:01:58.107457Z",
     "start_time": "2024-11-25T15:01:58.105357Z"
    }
   },
   "cell_type": "code",
   "source": [
    "def evaluate_model(y_true, y_pred, model_name):\n",
    "    print(f\"--- Évaluation du modèle : {model_name} ---\")\n",
    "    cm = confusion_matrix(y_true, y_pred)\n",
    "    precision = precision_score(y_true, y_pred)\n",
    "    recall = recall_score(y_true, y_pred)\n",
    "    print(\"Matrice de confusion :\")\n",
    "    print(cm)\n",
    "    print(f\"Précision : {precision:.4f}\")\n",
    "    print(f\"Rappel : {recall:.4f}\\n\")"
   ],
   "id": "9bb7b01d4620645e",
   "outputs": [],
   "execution_count": 16
  },
  {
   "metadata": {
    "ExecuteTime": {
     "end_time": "2024-11-25T15:01:58.173798Z",
     "start_time": "2024-11-25T15:01:58.146789Z"
    }
   },
   "cell_type": "code",
   "source": "evaluate_model(y_test, tree_predictions, \"Arbre de décision\")",
   "id": "468d178e10bdd816",
   "outputs": [
    {
     "name": "stdout",
     "output_type": "stream",
     "text": [
      "--- Évaluation du modèle : Arbre de décision ---\n",
      "Matrice de confusion :\n",
      "[[28606   278]\n",
      " [  238 12112]]\n",
      "Précision : 0.9776\n",
      "Rappel : 0.9807\n",
      "\n"
     ]
    }
   ],
   "execution_count": 17
  },
  {
   "metadata": {
    "collapsed": true,
    "ExecuteTime": {
     "end_time": "2024-11-25T15:01:58.282153Z",
     "start_time": "2024-11-25T15:01:58.253629Z"
    }
   },
   "cell_type": "code",
   "source": "evaluate_model(y_test, forest_predictions, \"Forêt aléatoire\")",
   "id": "initial_id",
   "outputs": [
    {
     "name": "stdout",
     "output_type": "stream",
     "text": [
      "--- Évaluation du modèle : Forêt aléatoire ---\n",
      "Matrice de confusion :\n",
      "[[28681   203]\n",
      " [  169 12181]]\n",
      "Précision : 0.9836\n",
      "Rappel : 0.9863\n",
      "\n"
     ]
    }
   ],
   "execution_count": 18
  },
  {
   "metadata": {},
   "cell_type": "markdown",
   "source": "Le modèle Forêt aléatoire semble être un peu plus précis que l'arbre de décision",
   "id": "2bd77f771ce481c"
  }
 ],
 "metadata": {
  "kernelspec": {
   "display_name": "Python 3",
   "language": "python",
   "name": "python3"
  },
  "language_info": {
   "codemirror_mode": {
    "name": "ipython",
    "version": 2
   },
   "file_extension": ".py",
   "mimetype": "text/x-python",
   "name": "python",
   "nbconvert_exporter": "python",
   "pygments_lexer": "ipython2",
   "version": "2.7.6"
  }
 },
 "nbformat": 4,
 "nbformat_minor": 5
}
