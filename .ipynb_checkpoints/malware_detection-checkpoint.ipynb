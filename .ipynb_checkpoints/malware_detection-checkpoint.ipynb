{
 "cells": [
  {
   "cell_type": "code",
   "id": "899777c2553efe3e",
   "metadata": {
    "ExecuteTime": {
     "end_time": "2024-11-24T13:47:34.282061Z",
     "start_time": "2024-11-24T13:47:34.227106Z"
    }
   },
   "source": [
    "import pandas as pd\n",
    "from sklearn.model_selection import train_test_split\n",
    "from sklearn.tree import DecisionTreeClassifier\n",
    "from sklearn.ensemble import RandomForestClassifier\n",
    "from sklearn.metrics import confusion_matrix, precision_score, recall_score\n",
    "\n",
    "data = pd.read_csv(\"DatasetmalwareExtrait.csv\")\n",
    "\n",
    "# Séparer les caractéristiques (X) et la cible (y)\n",
    "X = data.drop(columns=[\"legitimate\"])  \n",
    "y = data[\"legitimate\"] "
   ],
   "outputs": [],
   "execution_count": 57
  },
  {
   "metadata": {
    "ExecuteTime": {
     "end_time": "2024-11-24T13:47:34.290867Z",
     "start_time": "2024-11-24T13:47:34.288273Z"
    }
   },
   "cell_type": "code",
   "source": "random=2",
   "id": "7037f916b6f12073",
   "outputs": [],
   "execution_count": 58
  },
  {
   "metadata": {
    "ExecuteTime": {
     "end_time": "2024-11-24T13:47:34.354874Z",
     "start_time": "2024-11-24T13:47:34.335769Z"
    }
   },
   "cell_type": "code",
   "source": [
    "# Diviser les données en ensembles d'entraînement et de test\n",
    "X_train, X_test, y_train, y_test = train_test_split(X, y, test_size=0.3, random_state=random)"
   ],
   "id": "a16000e4f5ab6046",
   "outputs": [],
   "execution_count": 59
  },
  {
   "metadata": {
    "ExecuteTime": {
     "end_time": "2024-11-24T13:47:34.548426Z",
     "start_time": "2024-11-24T13:47:34.387070Z"
    }
   },
   "cell_type": "code",
   "source": [
    "# Entraîner un arbre de décision\n",
    "tree_model = DecisionTreeClassifier()\n",
    "tree_model.fit(X_train, y_train)\n",
    "tree_predictions = tree_model.predict(X_test)"
   ],
   "id": "c0773876436e3c9b",
   "outputs": [],
   "execution_count": 60
  },
  {
   "metadata": {
    "ExecuteTime": {
     "end_time": "2024-11-24T13:47:37.788095Z",
     "start_time": "2024-11-24T13:47:34.560394Z"
    }
   },
   "cell_type": "code",
   "source": [
    "# Entraîner une forêt aléatoire\n",
    "forest_model = RandomForestClassifier()\n",
    "forest_model.fit(X_train, y_train)\n",
    "forest_predictions = forest_model.predict(X_test)"
   ],
   "id": "9ae03198af77587b",
   "outputs": [],
   "execution_count": 61
  },
  {
   "metadata": {
    "ExecuteTime": {
     "end_time": "2024-11-24T13:47:37.802530Z",
     "start_time": "2024-11-24T13:47:37.799771Z"
    }
   },
   "cell_type": "code",
   "source": [
    "# Évaluation des modèles\n",
    "def evaluate_model(y_true, y_pred, model_name):\n",
    "    print(f\"--- Évaluation du modèle : {model_name} ---\")\n",
    "    cm = confusion_matrix(y_true, y_pred)\n",
    "    precision = precision_score(y_true, y_pred)\n",
    "    recall = recall_score(y_true, y_pred)\n",
    "    print(\"Matrice de confusion :\")\n",
    "    print(cm)\n",
    "    print(f\"Précision : {precision:.2f}\")\n",
    "    print(f\"Rappel : {recall:.2f}\\n\")"
   ],
   "id": "9bb7b01d4620645e",
   "outputs": [],
   "execution_count": 62
  },
  {
   "metadata": {
    "ExecuteTime": {
     "end_time": "2024-11-24T13:47:37.874931Z",
     "start_time": "2024-11-24T13:47:37.846036Z"
    }
   },
   "cell_type": "code",
   "source": "evaluate_model(y_test, tree_predictions, \"Arbre de décision\")",
   "id": "468d178e10bdd816",
   "outputs": [
    {
     "name": "stdout",
     "output_type": "stream",
     "text": [
      "--- Évaluation du modèle : Arbre de décision ---\n",
      "Matrice de confusion :\n",
      "[[28575   279]\n",
      " [  272 12108]]\n",
      "Précision : 0.98\n",
      "Rappel : 0.98\n",
      "\n"
     ]
    }
   ],
   "execution_count": 63
  },
  {
   "metadata": {
    "collapsed": true,
    "ExecuteTime": {
     "end_time": "2024-11-24T13:47:38.006194Z",
     "start_time": "2024-11-24T13:47:37.968708Z"
    }
   },
   "cell_type": "code",
   "source": "evaluate_model(y_test, forest_predictions, \"Forêt aléatoire\")",
   "id": "initial_id",
   "outputs": [
    {
     "name": "stdout",
     "output_type": "stream",
     "text": [
      "--- Évaluation du modèle : Forêt aléatoire ---\n",
      "Matrice de confusion :\n",
      "[[28653   201]\n",
      " [  197 12183]]\n",
      "Précision : 0.98\n",
      "Rappel : 0.98\n",
      "\n"
     ]
    }
   ],
   "execution_count": 64
  }
 ],
 "metadata": {
  "kernelspec": {
   "display_name": "Python 3",
   "language": "python",
   "name": "python3"
  },
  "language_info": {
   "codemirror_mode": {
    "name": "ipython",
    "version": 2
   },
   "file_extension": ".py",
   "mimetype": "text/x-python",
   "name": "python",
   "nbconvert_exporter": "python",
   "pygments_lexer": "ipython2",
   "version": "2.7.6"
  }
 },
 "nbformat": 4,
 "nbformat_minor": 5
}
