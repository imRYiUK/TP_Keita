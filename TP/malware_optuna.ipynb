{
 "cells": [
  {
   "cell_type": "code",
   "id": "initial_id",
   "metadata": {
    "collapsed": true,
    "ExecuteTime": {
     "end_time": "2024-12-21T12:26:14.846902Z",
     "start_time": "2024-12-21T12:25:10.942622Z"
    }
   },
   "source": [
    "import pandas as pd\n",
    "from sklearn.model_selection import train_test_split\n",
    "from sklearn.ensemble import RandomForestClassifier\n",
    "from sklearn.metrics import classification_report, accuracy_score\n",
    "import optuna\n",
    "\n",
    "# Charger le dataset Malware\n",
    "data = pd.read_csv(\"../OLD_SCRIPT/DatasetmalwareExtrait.csv\")\n",
    "\n",
    "# Séparer les caractéristiques (X) et la cible (y)\n",
    "X = data.drop(columns=[\"legitimate\"])\n",
    "y = data[\"legitimate\"]\n",
    "\n",
    "# Diviser les données en ensembles d'entraînement et de test\n",
    "X_train, X_test, y_train, y_test = train_test_split(X, y, test_size=0.2, random_state=42)\n",
    "\n",
    "# Fonction objectif pour Optuna\n",
    "def objective(trial):\n",
    "    n_estimators = trial.suggest_int('n_estimators', 50, 200)\n",
    "    max_depth = trial.suggest_int('max_depth', 10, 30, log=True)\n",
    "    min_samples_split = trial.suggest_int('min_samples_split', 2, 10)\n",
    "    min_samples_leaf = trial.suggest_int('min_samples_leaf', 1, 5)\n",
    "\n",
    "    model = RandomForestClassifier(\n",
    "        n_estimators=n_estimators,\n",
    "        max_depth=max_depth,\n",
    "        min_samples_split=min_samples_split,\n",
    "        min_samples_leaf=min_samples_leaf,\n",
    "        random_state=42\n",
    "    )\n",
    "\n",
    "    model.fit(X_train, y_train)\n",
    "    accuracy = model.score(X_test, y_test)\n",
    "    return accuracy\n",
    "\n",
    "# Créer une étude Optuna et optimiser\n",
    "study = optuna.create_study(direction='maximize')\n",
    "study.optimize(objective, n_trials=50, n_jobs=-1)\n",
    "\n",
    "# Meilleurs hyperparamètres trouvés\n",
    "print(\"Meilleurs hyperparamètres :\", study.best_params)\n",
    "\n",
    "# Entraîner le modèle avec les meilleurs hyperparamètres\n",
    "best_params = study.best_params\n",
    "best_model = RandomForestClassifier(\n",
    "    n_estimators=best_params['n_estimators'],\n",
    "    max_depth=best_params['max_depth'],\n",
    "    min_samples_split=best_params['min_samples_split'],\n",
    "    min_samples_leaf=best_params['min_samples_leaf'],\n",
    "    random_state=42\n",
    ")\n",
    "best_model.fit(X_train, y_train)\n",
    "\n",
    "# Prédictions sur l'ensemble de test\n",
    "y_pred = best_model.predict(X_test)\n",
    "\n",
    "# Rapport de classification\n",
    "print(\"\\nRapport de classification :\\n\")\n",
    "print(classification_report(y_test, y_pred))\n",
    "\n",
    "# Méthode pour évaluer le modèle\n",
    "def evaluate_model(model, X_test, y_test):\n",
    "    accuracy = accuracy_score(y_test, model.predict(X_test))\n",
    "    print(f\"\\nPrécision du modèle : {accuracy:.2f}\")\n",
    "    return accuracy\n",
    "\n",
    "# Évaluer le modèle\n",
    "evaluate_model(best_model, X_test, y_test)"
   ],
   "outputs": [
    {
     "name": "stderr",
     "output_type": "stream",
     "text": [
      "[I 2024-12-21 12:25:11,790] A new study created in memory with name: no-name-38235f20-f588-4323-b6af-a29f71a3ccc5\n",
      "[I 2024-12-21 12:25:17,914] Trial 6 finished with value: 0.9905052930263014 and parameters: {'n_estimators': 51, 'max_depth': 20, 'min_samples_split': 8, 'min_samples_leaf': 1}. Best is trial 6 with value: 0.9905052930263014.\n",
      "[I 2024-12-21 12:25:19,475] Trial 11 finished with value: 0.9872676343264578 and parameters: {'n_estimators': 64, 'max_depth': 18, 'min_samples_split': 5, 'min_samples_leaf': 5}. Best is trial 6 with value: 0.9905052930263014.\n",
      "[I 2024-12-21 12:25:19,757] Trial 1 finished with value: 0.9881043326421478 and parameters: {'n_estimators': 68, 'max_depth': 14, 'min_samples_split': 7, 'min_samples_leaf': 1}. Best is trial 6 with value: 0.9905052930263014.\n",
      "[I 2024-12-21 12:25:19,818] Trial 2 finished with value: 0.9847939175670268 and parameters: {'n_estimators': 76, 'max_depth': 10, 'min_samples_split': 7, 'min_samples_leaf': 1}. Best is trial 6 with value: 0.9905052930263014.\n",
      "[I 2024-12-21 12:25:25,477] Trial 0 finished with value: 0.9911237222161592 and parameters: {'n_estimators': 111, 'max_depth': 25, 'min_samples_split': 8, 'min_samples_leaf': 1}. Best is trial 0 with value: 0.9911237222161592.\n",
      "[I 2024-12-21 12:25:25,712] Trial 7 finished with value: 0.985485103132162 and parameters: {'n_estimators': 140, 'max_depth': 10, 'min_samples_split': 2, 'min_samples_leaf': 1}. Best is trial 0 with value: 0.9911237222161592.\n",
      "[I 2024-12-21 12:25:26,050] Trial 15 finished with value: 0.9859943977591037 and parameters: {'n_estimators': 58, 'max_depth': 11, 'min_samples_split': 10, 'min_samples_leaf': 1}. Best is trial 0 with value: 0.9911237222161592.\n",
      "[I 2024-12-21 12:25:26,611] Trial 5 finished with value: 0.9853032121939685 and parameters: {'n_estimators': 146, 'max_depth': 10, 'min_samples_split': 6, 'min_samples_leaf': 2}. Best is trial 0 with value: 0.9911237222161592.\n",
      "[I 2024-12-21 12:25:27,432] Trial 8 finished with value: 0.9871221215759031 and parameters: {'n_estimators': 138, 'max_depth': 18, 'min_samples_split': 2, 'min_samples_leaf': 5}. Best is trial 0 with value: 0.9911237222161592.\n",
      "[I 2024-12-21 12:25:29,369] Trial 14 finished with value: 0.9873403907017353 and parameters: {'n_estimators': 88, 'max_depth': 15, 'min_samples_split': 3, 'min_samples_leaf': 3}. Best is trial 0 with value: 0.9911237222161592.\n",
      "[I 2024-12-21 12:25:29,754] Trial 10 finished with value: 0.9874131470770127 and parameters: {'n_estimators': 154, 'max_depth': 20, 'min_samples_split': 8, 'min_samples_leaf': 5}. Best is trial 0 with value: 0.9911237222161592.\n",
      "[I 2024-12-21 12:25:31,222] Trial 9 finished with value: 0.9888682745825603 and parameters: {'n_estimators': 175, 'max_depth': 27, 'min_samples_split': 2, 'min_samples_leaf': 3}. Best is trial 0 with value: 0.9911237222161592.\n",
      "[I 2024-12-21 12:25:33,560] Trial 12 finished with value: 0.9883226017679799 and parameters: {'n_estimators': 143, 'max_depth': 16, 'min_samples_split': 10, 'min_samples_leaf': 2}. Best is trial 0 with value: 0.9911237222161592.\n",
      "[I 2024-12-21 12:25:33,804] Trial 3 finished with value: 0.9883953581432573 and parameters: {'n_estimators': 193, 'max_depth': 14, 'min_samples_split': 4, 'min_samples_leaf': 1}. Best is trial 0 with value: 0.9911237222161592.\n",
      "[I 2024-12-21 12:25:34,028] Trial 13 finished with value: 0.9885772490814507 and parameters: {'n_estimators': 131, 'max_depth': 20, 'min_samples_split': 8, 'min_samples_leaf': 3}. Best is trial 0 with value: 0.9911237222161592.\n",
      "[I 2024-12-21 12:25:34,421] Trial 4 finished with value: 0.989959620211721 and parameters: {'n_estimators': 187, 'max_depth': 27, 'min_samples_split': 6, 'min_samples_leaf': 2}. Best is trial 0 with value: 0.9911237222161592.\n",
      "[I 2024-12-21 12:25:34,932] Trial 17 finished with value: 0.9875950380152061 and parameters: {'n_estimators': 85, 'max_depth': 16, 'min_samples_split': 2, 'min_samples_leaf': 3}. Best is trial 0 with value: 0.9911237222161592.\n",
      "[I 2024-12-21 12:25:39,849] Trial 16 finished with value: 0.9917785295936556 and parameters: {'n_estimators': 122, 'max_depth': 21, 'min_samples_split': 3, 'min_samples_leaf': 1}. Best is trial 16 with value: 0.9917785295936556.\n",
      "[I 2024-12-21 12:25:43,181] Trial 23 finished with value: 0.9892320564589472 and parameters: {'n_estimators': 108, 'max_depth': 26, 'min_samples_split': 10, 'min_samples_leaf': 2}. Best is trial 16 with value: 0.9917785295936556.\n",
      "[I 2024-12-21 12:25:43,451] Trial 18 finished with value: 0.985012186692859 and parameters: {'n_estimators': 180, 'max_depth': 10, 'min_samples_split': 8, 'min_samples_leaf': 3}. Best is trial 16 with value: 0.9917785295936556.\n",
      "[I 2024-12-21 12:25:45,420] Trial 26 finished with value: 0.9895958383353342 and parameters: {'n_estimators': 102, 'max_depth': 27, 'min_samples_split': 9, 'min_samples_leaf': 2}. Best is trial 16 with value: 0.9917785295936556.\n",
      "[I 2024-12-21 12:25:45,543] Trial 19 finished with value: 0.9891956782713085 and parameters: {'n_estimators': 164, 'max_depth': 25, 'min_samples_split': 10, 'min_samples_leaf': 2}. Best is trial 16 with value: 0.9917785295936556.\n",
      "[I 2024-12-21 12:25:45,729] Trial 24 finished with value: 0.9893775692095019 and parameters: {'n_estimators': 105, 'max_depth': 25, 'min_samples_split': 9, 'min_samples_leaf': 2}. Best is trial 16 with value: 0.9917785295936556.\n",
      "[I 2024-12-21 12:25:45,890] Trial 27 finished with value: 0.9879224417039543 and parameters: {'n_estimators': 104, 'max_depth': 24, 'min_samples_split': 9, 'min_samples_leaf': 4}. Best is trial 16 with value: 0.9917785295936556.\n",
      "[I 2024-12-21 12:25:46,151] Trial 25 finished with value: 0.9894139473971407 and parameters: {'n_estimators': 107, 'max_depth': 25, 'min_samples_split': 9, 'min_samples_leaf': 2}. Best is trial 16 with value: 0.9917785295936556.\n",
      "[I 2024-12-21 12:25:46,407] Trial 28 finished with value: 0.987958819891593 and parameters: {'n_estimators': 103, 'max_depth': 24, 'min_samples_split': 9, 'min_samples_leaf': 4}. Best is trial 16 with value: 0.9917785295936556.\n",
      "[I 2024-12-21 12:25:46,956] Trial 20 finished with value: 0.98748590345229 and parameters: {'n_estimators': 175, 'max_depth': 27, 'min_samples_split': 4, 'min_samples_leaf': 5}. Best is trial 16 with value: 0.9917785295936556.\n",
      "[I 2024-12-21 12:25:50,501] Trial 21 finished with value: 0.9883226017679799 and parameters: {'n_estimators': 192, 'max_depth': 29, 'min_samples_split': 10, 'min_samples_leaf': 3}. Best is trial 16 with value: 0.9917785295936556.\n",
      "[I 2024-12-21 12:25:50,834] Trial 22 finished with value: 0.9882498453927026 and parameters: {'n_estimators': 187, 'max_depth': 30, 'min_samples_split': 10, 'min_samples_leaf': 3}. Best is trial 16 with value: 0.9917785295936556.\n",
      "[I 2024-12-21 12:25:51,723] Trial 29 finished with value: 0.9880679544545091 and parameters: {'n_estimators': 107, 'max_depth': 30, 'min_samples_split': 4, 'min_samples_leaf': 4}. Best is trial 16 with value: 0.9917785295936556.\n",
      "[I 2024-12-21 12:25:55,053] Trial 31 finished with value: 0.9880315762668704 and parameters: {'n_estimators': 108, 'max_depth': 23, 'min_samples_split': 4, 'min_samples_leaf': 4}. Best is trial 16 with value: 0.9917785295936556.\n",
      "[I 2024-12-21 12:25:56,311] Trial 30 finished with value: 0.9881043326421478 and parameters: {'n_estimators': 116, 'max_depth': 23, 'min_samples_split': 4, 'min_samples_leaf': 4}. Best is trial 16 with value: 0.9917785295936556.\n",
      "[I 2024-12-21 12:25:56,694] Trial 40 finished with value: 0.9911601004037979 and parameters: {'n_estimators': 50, 'max_depth': 22, 'min_samples_split': 7, 'min_samples_leaf': 1}. Best is trial 16 with value: 0.9917785295936556.\n",
      "[I 2024-12-21 12:25:58,218] Trial 33 finished with value: 0.9881043326421478 and parameters: {'n_estimators': 115, 'max_depth': 23, 'min_samples_split': 5, 'min_samples_leaf': 4}. Best is trial 16 with value: 0.9917785295936556.\n",
      "[I 2024-12-21 12:25:58,555] Trial 32 finished with value: 0.9911964785914366 and parameters: {'n_estimators': 117, 'max_depth': 23, 'min_samples_split': 5, 'min_samples_leaf': 1}. Best is trial 16 with value: 0.9917785295936556.\n",
      "[I 2024-12-21 12:25:59,265] Trial 34 finished with value: 0.9914875040925462 and parameters: {'n_estimators': 118, 'max_depth': 22, 'min_samples_split': 5, 'min_samples_leaf': 1}. Best is trial 16 with value: 0.9917785295936556.\n",
      "[I 2024-12-21 12:25:59,437] Trial 36 finished with value: 0.9913419913419913 and parameters: {'n_estimators': 117, 'max_depth': 30, 'min_samples_split': 5, 'min_samples_leaf': 1}. Best is trial 16 with value: 0.9917785295936556.\n",
      "[I 2024-12-21 12:25:59,860] Trial 35 finished with value: 0.9914511259049075 and parameters: {'n_estimators': 120, 'max_depth': 22, 'min_samples_split': 5, 'min_samples_leaf': 1}. Best is trial 16 with value: 0.9917785295936556.\n",
      "[I 2024-12-21 12:26:00,483] Trial 37 finished with value: 0.99137836952963 and parameters: {'n_estimators': 120, 'max_depth': 30, 'min_samples_split': 5, 'min_samples_leaf': 1}. Best is trial 16 with value: 0.9917785295936556.\n",
      "[I 2024-12-21 12:26:00,988] Trial 38 finished with value: 0.9911601004037979 and parameters: {'n_estimators': 121, 'max_depth': 22, 'min_samples_split': 7, 'min_samples_leaf': 1}. Best is trial 16 with value: 0.9917785295936556.\n",
      "[I 2024-12-21 12:26:02,037] Trial 41 finished with value: 0.9912328567790752 and parameters: {'n_estimators': 90, 'max_depth': 22, 'min_samples_split': 7, 'min_samples_leaf': 1}. Best is trial 16 with value: 0.9917785295936556.\n",
      "[I 2024-12-21 12:26:03,465] Trial 39 finished with value: 0.9912692349667139 and parameters: {'n_estimators': 118, 'max_depth': 22, 'min_samples_split': 7, 'min_samples_leaf': 1}. Best is trial 16 with value: 0.9917785295936556.\n",
      "[I 2024-12-21 12:26:04,425] Trial 44 finished with value: 0.9910145876532431 and parameters: {'n_estimators': 72, 'max_depth': 21, 'min_samples_split': 7, 'min_samples_leaf': 1}. Best is trial 16 with value: 0.9917785295936556.\n",
      "[I 2024-12-21 12:26:04,528] Trial 45 finished with value: 0.9910145876532431 and parameters: {'n_estimators': 73, 'max_depth': 21, 'min_samples_split': 7, 'min_samples_leaf': 1}. Best is trial 16 with value: 0.9917785295936556.\n",
      "[I 2024-12-21 12:26:05,594] Trial 46 finished with value: 0.9913056131543526 and parameters: {'n_estimators': 77, 'max_depth': 22, 'min_samples_split': 7, 'min_samples_leaf': 1}. Best is trial 16 with value: 0.9917785295936556.\n",
      "[I 2024-12-21 12:26:06,179] Trial 42 finished with value: 0.9911601004037979 and parameters: {'n_estimators': 119, 'max_depth': 22, 'min_samples_split': 6, 'min_samples_leaf': 1}. Best is trial 16 with value: 0.9917785295936556.\n",
      "[I 2024-12-21 12:26:06,716] Trial 43 finished with value: 0.9909054530903271 and parameters: {'n_estimators': 121, 'max_depth': 21, 'min_samples_split': 7, 'min_samples_leaf': 1}. Best is trial 16 with value: 0.9917785295936556.\n",
      "[I 2024-12-21 12:26:07,779] Trial 47 finished with value: 0.9908690749026884 and parameters: {'n_estimators': 124, 'max_depth': 21, 'min_samples_split': 7, 'min_samples_leaf': 1}. Best is trial 16 with value: 0.9917785295936556.\n",
      "[I 2024-12-21 12:26:08,271] Trial 48 finished with value: 0.9915238822801848 and parameters: {'n_estimators': 127, 'max_depth': 21, 'min_samples_split': 5, 'min_samples_leaf': 1}. Best is trial 16 with value: 0.9917785295936556.\n",
      "[I 2024-12-21 12:26:08,588] Trial 49 finished with value: 0.99137836952963 and parameters: {'n_estimators': 127, 'max_depth': 21, 'min_samples_split': 6, 'min_samples_leaf': 1}. Best is trial 16 with value: 0.9917785295936556.\n"
     ]
    },
    {
     "name": "stdout",
     "output_type": "stream",
     "text": [
      "Meilleurs hyperparamètres : {'n_estimators': 122, 'max_depth': 21, 'min_samples_split': 3, 'min_samples_leaf': 1}\n",
      "\n",
      "Rapport de classification :\n",
      "\n",
      "              precision    recall  f1-score   support\n",
      "\n",
      "           0       0.99      0.99      0.99     19186\n",
      "           1       0.99      0.99      0.99      8303\n",
      "\n",
      "    accuracy                           0.99     27489\n",
      "   macro avg       0.99      0.99      0.99     27489\n",
      "weighted avg       0.99      0.99      0.99     27489\n",
      "\n",
      "\n",
      "Précision du modèle : 0.99\n"
     ]
    },
    {
     "data": {
      "text/plain": [
       "0.9917785295936556"
      ]
     },
     "execution_count": 4,
     "metadata": {},
     "output_type": "execute_result"
    }
   ],
   "execution_count": 4
  },
  {
   "metadata": {
    "ExecuteTime": {
     "end_time": "2024-12-21T12:26:14.871124Z",
     "start_time": "2024-12-21T12:26:14.868820Z"
    }
   },
   "cell_type": "code",
   "source": "import pickle",
   "id": "57ca00d7a8faa9a0",
   "outputs": [],
   "execution_count": 5
  },
  {
   "metadata": {
    "ExecuteTime": {
     "end_time": "2024-12-21T12:26:14.950756Z",
     "start_time": "2024-12-21T12:26:14.914110Z"
    }
   },
   "cell_type": "code",
   "source": [
    "with open('streamlit/model_pickle', 'wb') as f:\n",
    "    pickle.dump(best_model, f)"
   ],
   "id": "9b3ae4aa6bdcbe4e",
   "outputs": [],
   "execution_count": 6
  },
  {
   "metadata": {
    "ExecuteTime": {
     "end_time": "2024-12-21T12:26:14.983731Z",
     "start_time": "2024-12-21T12:26:14.959922Z"
    }
   },
   "cell_type": "code",
   "source": [
    "with open('streamlit/model_pickle', 'rb') as f:\n",
    "    n_model = pickle.load(f)"
   ],
   "id": "ecca4c3ec4e27ae2",
   "outputs": [],
   "execution_count": 7
  },
  {
   "metadata": {
    "ExecuteTime": {
     "end_time": "2024-12-21T12:26:15.005655Z",
     "start_time": "2024-12-21T12:26:15.004055Z"
    }
   },
   "cell_type": "code",
   "source": "import numpy as np",
   "id": "f3c788859221426a",
   "outputs": [],
   "execution_count": 8
  },
  {
   "metadata": {
    "ExecuteTime": {
     "end_time": "2024-12-21T12:26:15.057452Z",
     "start_time": "2024-12-21T12:26:15.051331Z"
    }
   },
   "cell_type": "code",
   "source": [
    "import pefile\n",
    "\n",
    "def extract_pe_characteristics(file_path):\n",
    "    # Load the PE file\n",
    "    pe = pefile.PE(file_path)\n",
    "\n",
    "    # Extract the characteristics\n",
    "    characteristics = {\n",
    "        \"AddressOfEntryPoint\": pe.OPTIONAL_HEADER.AddressOfEntryPoint,\n",
    "        \"MajorLinkerVersion\": pe.OPTIONAL_HEADER.MajorLinkerVersion,\n",
    "        \"MajorImageVersion\": pe.OPTIONAL_HEADER.MajorImageVersion,\n",
    "        \"MajorOperatingSystemVersion\": pe.OPTIONAL_HEADER.MajorOperatingSystemVersion,\n",
    "        \"DllCharacteristics\": pe.OPTIONAL_HEADER.DllCharacteristics,\n",
    "        \"SizeOfStackReserve\": pe.OPTIONAL_HEADER.SizeOfStackReserve,\n",
    "        \"NumberOfSections\": len(pe.sections),  # Count of sections in the file\n",
    "        \"ResourceSize\": 0  # Placeholder for Resource Size\n",
    "    }\n",
    "\n",
    "    # Extract the resource size if available\n",
    "    try:\n",
    "        resource_directory = pe.DIRECTORY_ENTRY_RESOURCE\n",
    "        characteristics[\"ResourceSize\"] = resource_directory.struct.Size\n",
    "    except AttributeError:\n",
    "        characteristics[\"ResourceSize\"] = 0  # If no resource directory, set to 0\n",
    "\n",
    "    # Close the PE file\n",
    "    pe.close()\n",
    "\n",
    "    return characteristics"
   ],
   "id": "1a2b00d11b2bc894",
   "outputs": [],
   "execution_count": 9
  },
  {
   "metadata": {
    "ExecuteTime": {
     "end_time": "2024-12-21T12:26:15.174095Z",
     "start_time": "2024-12-21T12:26:15.101981Z"
    }
   },
   "cell_type": "code",
   "source": [
    "# Example usage\n",
    "file_path = \"exe_files/test2.exe\"  # Path to your PE file\n",
    "pe_characteristics = extract_pe_characteristics(file_path)\n",
    "final_array = list(pe_characteristics.values())\n",
    "print(final_array)"
   ],
   "id": "fa7be10eed3dfea1",
   "outputs": [
    {
     "name": "stdout",
     "output_type": "stream",
     "text": [
      "[5244, 10, 0, 5, 33088, 1048576, 5, 0]\n"
     ]
    }
   ],
   "execution_count": 10
  },
  {
   "metadata": {
    "ExecuteTime": {
     "end_time": "2024-12-21T12:26:15.192028Z",
     "start_time": "2024-12-21T12:26:15.187860Z"
    }
   },
   "cell_type": "code",
   "source": [
    "entry_array = np.array(final_array).reshape(1, -1)\n",
    "prediction = n_model.predict(entry_array)\n",
    "print(prediction)"
   ],
   "id": "85c2e75da6ae96d4",
   "outputs": [
    {
     "name": "stdout",
     "output_type": "stream",
     "text": [
      "[0]\n"
     ]
    },
    {
     "name": "stderr",
     "output_type": "stream",
     "text": [
      "/home/imryuik/miniconda3/lib/python3.12/site-packages/sklearn/base.py:493: UserWarning: X does not have valid feature names, but RandomForestClassifier was fitted with feature names\n",
      "  warnings.warn(\n"
     ]
    }
   ],
   "execution_count": 11
  }
 ],
 "metadata": {
  "kernelspec": {
   "display_name": "Python 3",
   "language": "python",
   "name": "python3"
  },
  "language_info": {
   "codemirror_mode": {
    "name": "ipython",
    "version": 2
   },
   "file_extension": ".py",
   "mimetype": "text/x-python",
   "name": "python",
   "nbconvert_exporter": "python",
   "pygments_lexer": "ipython2",
   "version": "2.7.6"
  }
 },
 "nbformat": 4,
 "nbformat_minor": 5
}
