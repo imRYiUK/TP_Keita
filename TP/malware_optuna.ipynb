{
 "cells": [
  {
   "cell_type": "code",
   "id": "initial_id",
   "metadata": {
    "collapsed": true,
    "ExecuteTime": {
     "end_time": "2024-12-18T14:06:46.463976Z",
     "start_time": "2024-12-18T14:05:52.142213Z"
    }
   },
   "source": [
    "import pandas as pd\n",
    "from sklearn.model_selection import train_test_split\n",
    "from sklearn.ensemble import RandomForestClassifier\n",
    "from sklearn.metrics import classification_report, accuracy_score\n",
    "import optuna\n",
    "\n",
    "# Charger le dataset Malware\n",
    "data = pd.read_csv(\"../OLD_SCRIPT/DatasetmalwareExtrait.csv\")\n",
    "\n",
    "# Séparer les caractéristiques (X) et la cible (y)\n",
    "X = data.drop(columns=[\"legitimate\"])\n",
    "y = data[\"legitimate\"]\n",
    "\n",
    "# Diviser les données en ensembles d'entraînement et de test\n",
    "X_train, X_test, y_train, y_test = train_test_split(X, y, test_size=0.2, random_state=42)\n",
    "\n",
    "# Fonction objectif pour Optuna\n",
    "def objective(trial):\n",
    "    n_estimators = trial.suggest_int('n_estimators', 50, 200)\n",
    "    max_depth = trial.suggest_int('max_depth', 10, 30, log=True)\n",
    "    min_samples_split = trial.suggest_int('min_samples_split', 2, 10)\n",
    "    min_samples_leaf = trial.suggest_int('min_samples_leaf', 1, 5)\n",
    "\n",
    "    model = RandomForestClassifier(\n",
    "        n_estimators=n_estimators,\n",
    "        max_depth=max_depth,\n",
    "        min_samples_split=min_samples_split,\n",
    "        min_samples_leaf=min_samples_leaf,\n",
    "        random_state=42\n",
    "    )\n",
    "\n",
    "    model.fit(X_train, y_train)\n",
    "    accuracy = model.score(X_test, y_test)\n",
    "    return accuracy\n",
    "\n",
    "# Créer une étude Optuna et optimiser\n",
    "study = optuna.create_study(direction='maximize')\n",
    "study.optimize(objective, n_trials=50, n_jobs=-1)\n",
    "\n",
    "# Meilleurs hyperparamètres trouvés\n",
    "print(\"Meilleurs hyperparamètres :\", study.best_params)\n",
    "\n",
    "# Entraîner le modèle avec les meilleurs hyperparamètres\n",
    "best_params = study.best_params\n",
    "best_model = RandomForestClassifier(\n",
    "    n_estimators=best_params['n_estimators'],\n",
    "    max_depth=best_params['max_depth'],\n",
    "    min_samples_split=best_params['min_samples_split'],\n",
    "    min_samples_leaf=best_params['min_samples_leaf'],\n",
    "    random_state=42\n",
    ")\n",
    "best_model.fit(X_train, y_train)\n",
    "\n",
    "# Prédictions sur l'ensemble de test\n",
    "y_pred = best_model.predict(X_test)\n",
    "\n",
    "# Rapport de classification\n",
    "print(\"\\nRapport de classification :\\n\")\n",
    "print(classification_report(y_test, y_pred))\n",
    "\n",
    "# Méthode pour évaluer le modèle\n",
    "def evaluate_model(model, X_test, y_test):\n",
    "    accuracy = accuracy_score(y_test, model.predict(X_test))\n",
    "    print(f\"\\nPrécision du modèle : {accuracy:.2f}\")\n",
    "    return accuracy\n",
    "\n",
    "# Évaluer le modèle\n",
    "evaluate_model(best_model, X_test, y_test)"
   ],
   "outputs": [
    {
     "name": "stderr",
     "output_type": "stream",
     "text": [
      "[I 2024-12-18 14:05:53,280] A new study created in memory with name: no-name-8fce449b-4ad0-4ae8-8ae5-3a34e2358190\n",
      "[I 2024-12-18 14:06:03,562] Trial 8 finished with value: 0.9919604205318491 and parameters: {'n_estimators': 79, 'max_depth': 23, 'min_samples_split': 2, 'min_samples_leaf': 1}. Best is trial 8 with value: 0.9919604205318491.\n",
      "[I 2024-12-18 14:06:04,810] Trial 0 finished with value: 0.9881770890174252 and parameters: {'n_estimators': 96, 'max_depth': 27, 'min_samples_split': 2, 'min_samples_leaf': 4}. Best is trial 8 with value: 0.9919604205318491.\n",
      "[I 2024-12-18 14:06:05,862] Trial 9 finished with value: 0.9872312561388191 and parameters: {'n_estimators': 107, 'max_depth': 26, 'min_samples_split': 5, 'min_samples_leaf': 5}. Best is trial 8 with value: 0.9919604205318491.\n",
      "[I 2024-12-18 14:06:06,260] Trial 10 finished with value: 0.9875950380152061 and parameters: {'n_estimators': 107, 'max_depth': 16, 'min_samples_split': 8, 'min_samples_leaf': 3}. Best is trial 8 with value: 0.9919604205318491.\n",
      "[I 2024-12-18 14:06:06,468] Trial 2 finished with value: 0.9875222816399287 and parameters: {'n_estimators': 109, 'max_depth': 15, 'min_samples_split': 9, 'min_samples_leaf': 3}. Best is trial 8 with value: 0.9919604205318491.\n",
      "[I 2024-12-18 14:06:07,151] Trial 3 finished with value: 0.987012987012987 and parameters: {'n_estimators': 120, 'max_depth': 13, 'min_samples_split': 5, 'min_samples_leaf': 4}. Best is trial 8 with value: 0.9919604205318491.\n",
      "[I 2024-12-18 14:06:07,646] Trial 4 finished with value: 0.9883953581432573 and parameters: {'n_estimators': 121, 'max_depth': 15, 'min_samples_split': 3, 'min_samples_leaf': 2}. Best is trial 8 with value: 0.9919604205318491.\n",
      "[I 2024-12-18 14:06:08,215] Trial 6 finished with value: 0.9881770890174252 and parameters: {'n_estimators': 122, 'max_depth': 27, 'min_samples_split': 8, 'min_samples_leaf': 4}. Best is trial 8 with value: 0.9919604205318491.\n",
      "[I 2024-12-18 14:06:08,594] Trial 5 finished with value: 0.9888682745825603 and parameters: {'n_estimators': 120, 'max_depth': 30, 'min_samples_split': 8, 'min_samples_leaf': 3}. Best is trial 8 with value: 0.9919604205318491.\n",
      "[I 2024-12-18 14:06:09,645] Trial 11 finished with value: 0.9889410309578377 and parameters: {'n_estimators': 135, 'max_depth': 26, 'min_samples_split': 6, 'min_samples_leaf': 3}. Best is trial 8 with value: 0.9919604205318491.\n",
      "[I 2024-12-18 14:06:09,883] Trial 7 finished with value: 0.9851576994434137 and parameters: {'n_estimators': 161, 'max_depth': 10, 'min_samples_split': 10, 'min_samples_leaf': 1}. Best is trial 8 with value: 0.9919604205318491.\n",
      "[I 2024-12-18 14:06:10,656] Trial 12 finished with value: 0.9910873440285205 and parameters: {'n_estimators': 56, 'max_depth': 23, 'min_samples_split': 5, 'min_samples_leaf': 1}. Best is trial 8 with value: 0.9919604205318491.\n",
      "[I 2024-12-18 14:06:13,223] Trial 1 finished with value: 0.9873403907017353 and parameters: {'n_estimators': 185, 'max_depth': 12, 'min_samples_split': 3, 'min_samples_leaf': 1}. Best is trial 8 with value: 0.9919604205318491.\n",
      "[I 2024-12-18 14:06:14,921] Trial 20 finished with value: 0.9887227618320056 and parameters: {'n_estimators': 54, 'max_depth': 15, 'min_samples_split': 6, 'min_samples_leaf': 1}. Best is trial 8 with value: 0.9919604205318491.\n",
      "[I 2024-12-18 14:06:16,493] Trial 19 finished with value: 0.9918149077812943 and parameters: {'n_estimators': 67, 'max_depth': 24, 'min_samples_split': 3, 'min_samples_leaf': 1}. Best is trial 8 with value: 0.9919604205318491.\n",
      "[I 2024-12-18 14:06:16,645] Trial 21 finished with value: 0.99137836952963 and parameters: {'n_estimators': 54, 'max_depth': 20, 'min_samples_split': 3, 'min_samples_leaf': 1}. Best is trial 8 with value: 0.9919604205318491.\n",
      "[I 2024-12-18 14:06:17,023] Trial 23 finished with value: 0.9917785295936556 and parameters: {'n_estimators': 51, 'max_depth': 22, 'min_samples_split': 3, 'min_samples_leaf': 1}. Best is trial 8 with value: 0.9919604205318491.\n",
      "[I 2024-12-18 14:06:17,112] Trial 22 finished with value: 0.9910145876532431 and parameters: {'n_estimators': 60, 'max_depth': 21, 'min_samples_split': 4, 'min_samples_leaf': 1}. Best is trial 8 with value: 0.9919604205318491.\n",
      "[I 2024-12-18 14:06:19,639] Trial 24 finished with value: 0.9909782094656044 and parameters: {'n_estimators': 50, 'max_depth': 20, 'min_samples_split': 4, 'min_samples_leaf': 1}. Best is trial 8 with value: 0.9919604205318491.\n",
      "[I 2024-12-18 14:06:20,030] Trial 15 finished with value: 0.9852668340063298 and parameters: {'n_estimators': 131, 'max_depth': 10, 'min_samples_split': 9, 'min_samples_leaf': 1}. Best is trial 8 with value: 0.9919604205318491.\n",
      "[I 2024-12-18 14:06:21,765] Trial 13 finished with value: 0.9874131470770127 and parameters: {'n_estimators': 142, 'max_depth': 24, 'min_samples_split': 7, 'min_samples_leaf': 5}. Best is trial 8 with value: 0.9919604205318491.\n",
      "[I 2024-12-18 14:06:23,039] Trial 14 finished with value: 0.9862854232602132 and parameters: {'n_estimators': 148, 'max_depth': 12, 'min_samples_split': 6, 'min_samples_leaf': 4}. Best is trial 8 with value: 0.9919604205318491.\n",
      "[I 2024-12-18 14:06:23,196] Trial 18 finished with value: 0.9881407108297865 and parameters: {'n_estimators': 135, 'max_depth': 26, 'min_samples_split': 3, 'min_samples_leaf': 4}. Best is trial 8 with value: 0.9919604205318491.\n",
      "[I 2024-12-18 14:06:23,434] Trial 25 finished with value: 0.9903961584633854 and parameters: {'n_estimators': 67, 'max_depth': 21, 'min_samples_split': 4, 'min_samples_leaf': 2}. Best is trial 8 with value: 0.9919604205318491.\n",
      "[I 2024-12-18 14:06:26,342] Trial 26 finished with value: 0.9902506457128306 and parameters: {'n_estimators': 81, 'max_depth': 20, 'min_samples_split': 2, 'min_samples_leaf': 2}. Best is trial 8 with value: 0.9919604205318491.\n",
      "[I 2024-12-18 14:06:26,520] Trial 29 finished with value: 0.9892684346465859 and parameters: {'n_estimators': 80, 'max_depth': 17, 'min_samples_split': 2, 'min_samples_leaf': 2}. Best is trial 8 with value: 0.9919604205318491.\n",
      "[I 2024-12-18 14:06:26,874] Trial 28 finished with value: 0.9902142675251919 and parameters: {'n_estimators': 82, 'max_depth': 20, 'min_samples_split': 2, 'min_samples_leaf': 2}. Best is trial 8 with value: 0.9919604205318491.\n",
      "[I 2024-12-18 14:06:27,007] Trial 16 finished with value: 0.9878860635163156 and parameters: {'n_estimators': 172, 'max_depth': 16, 'min_samples_split': 3, 'min_samples_leaf': 3}. Best is trial 8 with value: 0.9919604205318491.\n",
      "[I 2024-12-18 14:06:27,192] Trial 27 finished with value: 0.9905416712139401 and parameters: {'n_estimators': 84, 'max_depth': 21, 'min_samples_split': 2, 'min_samples_leaf': 2}. Best is trial 8 with value: 0.9919604205318491.\n",
      "[I 2024-12-18 14:06:27,569] Trial 17 finished with value: 0.9879224417039543 and parameters: {'n_estimators': 173, 'max_depth': 14, 'min_samples_split': 8, 'min_samples_leaf': 1}. Best is trial 8 with value: 0.9919604205318491.\n",
      "[I 2024-12-18 14:06:28,819] Trial 30 finished with value: 0.9896685947106115 and parameters: {'n_estimators': 75, 'max_depth': 19, 'min_samples_split': 2, 'min_samples_leaf': 2}. Best is trial 8 with value: 0.9919604205318491.\n",
      "[I 2024-12-18 14:06:29,373] Trial 31 finished with value: 0.9897413510858889 and parameters: {'n_estimators': 78, 'max_depth': 18, 'min_samples_split': 2, 'min_samples_leaf': 2}. Best is trial 8 with value: 0.9919604205318491.\n",
      "[I 2024-12-18 14:06:31,033] Trial 32 finished with value: 0.9897413510858889 and parameters: {'n_estimators': 77, 'max_depth': 19, 'min_samples_split': 2, 'min_samples_leaf': 2}. Best is trial 8 with value: 0.9919604205318491.\n",
      "[I 2024-12-18 14:06:32,488] Trial 34 finished with value: 0.9896685947106115 and parameters: {'n_estimators': 79, 'max_depth': 18, 'min_samples_split': 2, 'min_samples_leaf': 2}. Best is trial 8 with value: 0.9919604205318491.\n",
      "[I 2024-12-18 14:06:32,553] Trial 35 finished with value: 0.9895594601476955 and parameters: {'n_estimators': 76, 'max_depth': 18, 'min_samples_split': 2, 'min_samples_leaf': 2}. Best is trial 8 with value: 0.9919604205318491.\n",
      "[I 2024-12-18 14:06:32,658] Trial 33 finished with value: 0.9895230819600568 and parameters: {'n_estimators': 77, 'max_depth': 18, 'min_samples_split': 2, 'min_samples_leaf': 2}. Best is trial 8 with value: 0.9919604205318491.\n",
      "[I 2024-12-18 14:06:35,618] Trial 38 finished with value: 0.9902506457128306 and parameters: {'n_estimators': 71, 'max_depth': 23, 'min_samples_split': 4, 'min_samples_leaf': 2}. Best is trial 8 with value: 0.9919604205318491.\n",
      "[I 2024-12-18 14:06:35,660] Trial 36 finished with value: 0.9895594601476955 and parameters: {'n_estimators': 76, 'max_depth': 18, 'min_samples_split': 2, 'min_samples_leaf': 2}. Best is trial 8 with value: 0.9919604205318491.\n",
      "[I 2024-12-18 14:06:35,675] Trial 37 finished with value: 0.9902142675251919 and parameters: {'n_estimators': 77, 'max_depth': 23, 'min_samples_split': 2, 'min_samples_leaf': 2}. Best is trial 8 with value: 0.9919604205318491.\n",
      "[I 2024-12-18 14:06:35,717] Trial 39 finished with value: 0.9902142675251919 and parameters: {'n_estimators': 70, 'max_depth': 23, 'min_samples_split': 4, 'min_samples_leaf': 2}. Best is trial 8 with value: 0.9919604205318491.\n",
      "[I 2024-12-18 14:06:35,852] Trial 40 finished with value: 0.990432536651024 and parameters: {'n_estimators': 69, 'max_depth': 30, 'min_samples_split': 4, 'min_samples_leaf': 2}. Best is trial 8 with value: 0.9919604205318491.\n",
      "[I 2024-12-18 14:06:35,872] Trial 41 finished with value: 0.990323402088108 and parameters: {'n_estimators': 67, 'max_depth': 30, 'min_samples_split': 4, 'min_samples_leaf': 2}. Best is trial 8 with value: 0.9919604205318491.\n",
      "[I 2024-12-18 14:06:36,955] Trial 42 finished with value: 0.9914147477172687 and parameters: {'n_estimators': 66, 'max_depth': 23, 'min_samples_split': 3, 'min_samples_leaf': 1}. Best is trial 8 with value: 0.9919604205318491.\n",
      "[I 2024-12-18 14:06:37,415] Trial 43 finished with value: 0.9914147477172687 and parameters: {'n_estimators': 67, 'max_depth': 23, 'min_samples_split': 3, 'min_samples_leaf': 1}. Best is trial 8 with value: 0.9919604205318491.\n",
      "[I 2024-12-18 14:06:40,164] Trial 44 finished with value: 0.991742151406017 and parameters: {'n_estimators': 94, 'max_depth': 23, 'min_samples_split': 3, 'min_samples_leaf': 1}. Best is trial 8 with value: 0.9919604205318491.\n",
      "[I 2024-12-18 14:06:40,418] Trial 49 finished with value: 0.9917785295936556 and parameters: {'n_estimators': 64, 'max_depth': 29, 'min_samples_split': 3, 'min_samples_leaf': 1}. Best is trial 8 with value: 0.9919604205318491.\n",
      "[I 2024-12-18 14:06:40,844] Trial 47 finished with value: 0.991742151406017 and parameters: {'n_estimators': 94, 'max_depth': 23, 'min_samples_split': 3, 'min_samples_leaf': 1}. Best is trial 8 with value: 0.9919604205318491.\n",
      "[I 2024-12-18 14:06:40,998] Trial 46 finished with value: 0.9916330168431009 and parameters: {'n_estimators': 97, 'max_depth': 23, 'min_samples_split': 3, 'min_samples_leaf': 1}. Best is trial 8 with value: 0.9919604205318491.\n",
      "[I 2024-12-18 14:06:41,003] Trial 45 finished with value: 0.9917057732183783 and parameters: {'n_estimators': 96, 'max_depth': 23, 'min_samples_split': 3, 'min_samples_leaf': 1}. Best is trial 8 with value: 0.9919604205318491.\n",
      "[I 2024-12-18 14:06:42,088] Trial 48 finished with value: 0.9918876641565717 and parameters: {'n_estimators': 93, 'max_depth': 30, 'min_samples_split': 3, 'min_samples_leaf': 1}. Best is trial 8 with value: 0.9919604205318491.\n"
     ]
    },
    {
     "name": "stdout",
     "output_type": "stream",
     "text": [
      "Meilleurs hyperparamètres : {'n_estimators': 79, 'max_depth': 23, 'min_samples_split': 2, 'min_samples_leaf': 1}\n",
      "\n",
      "Rapport de classification :\n",
      "\n",
      "              precision    recall  f1-score   support\n",
      "\n",
      "           0       0.99      0.99      0.99     19186\n",
      "           1       0.99      0.99      0.99      8303\n",
      "\n",
      "    accuracy                           0.99     27489\n",
      "   macro avg       0.99      0.99      0.99     27489\n",
      "weighted avg       0.99      0.99      0.99     27489\n",
      "\n",
      "\n",
      "Précision du modèle : 0.99\n"
     ]
    },
    {
     "data": {
      "text/plain": [
       "0.9919604205318491"
      ]
     },
     "execution_count": 1,
     "metadata": {},
     "output_type": "execute_result"
    }
   ],
   "execution_count": 1
  },
  {
   "metadata": {
    "ExecuteTime": {
     "end_time": "2024-12-18T14:06:46.482166Z",
     "start_time": "2024-12-18T14:06:46.479772Z"
    }
   },
   "cell_type": "code",
   "source": "import pickle",
   "id": "57ca00d7a8faa9a0",
   "outputs": [],
   "execution_count": 2
  },
  {
   "metadata": {
    "ExecuteTime": {
     "end_time": "2024-12-18T14:06:46.564708Z",
     "start_time": "2024-12-18T14:06:46.544825Z"
    }
   },
   "cell_type": "code",
   "source": [
    "with open('streamlit/model_pickle', 'wb') as f:\n",
    "    pickle.dump(best_model, f)"
   ],
   "id": "9b3ae4aa6bdcbe4e",
   "outputs": [],
   "execution_count": 3
  },
  {
   "metadata": {
    "ExecuteTime": {
     "end_time": "2024-12-18T14:12:42.699733Z",
     "start_time": "2024-12-18T14:12:42.665117Z"
    }
   },
   "cell_type": "code",
   "source": [
    "with open('streamlit/model_pickle', 'rb') as f:\n",
    "    n_model = pickle.load(f)"
   ],
   "id": "ecca4c3ec4e27ae2",
   "outputs": [],
   "execution_count": 4
  },
  {
   "metadata": {},
   "cell_type": "code",
   "source": "import numpy as np",
   "id": "f3c788859221426a",
   "outputs": [],
   "execution_count": null
  },
  {
   "metadata": {
    "ExecuteTime": {
     "end_time": "2024-12-18T14:47:23.638580Z",
     "start_time": "2024-12-18T14:47:23.629915Z"
    }
   },
   "cell_type": "code",
   "source": [
    "import pefile\n",
    "\n",
    "def extract_pe_characteristics(file_path):\n",
    "    # Load the PE file\n",
    "    pe = pefile.PE(file_path)\n",
    "\n",
    "    # Extract the characteristics\n",
    "    characteristics = {\n",
    "        \"AddressOfEntryPoint\": pe.OPTIONAL_HEADER.AddressOfEntryPoint,\n",
    "        \"MajorLinkerVersion\": pe.OPTIONAL_HEADER.MajorLinkerVersion,\n",
    "        \"MajorImageVersion\": pe.OPTIONAL_HEADER.MajorImageVersion,\n",
    "        \"MajorOperatingSystemVersion\": pe.OPTIONAL_HEADER.MajorOperatingSystemVersion,\n",
    "        \"DllCharacteristics\": pe.OPTIONAL_HEADER.DllCharacteristics,\n",
    "        \"SizeOfStackReserve\": pe.OPTIONAL_HEADER.SizeOfStackReserve,\n",
    "        \"NumberOfSections\": len(pe.sections),  # Count of sections in the file\n",
    "        \"ResourceSize\": 0  # Placeholder for Resource Size\n",
    "    }\n",
    "\n",
    "    # Extract the resource size if available\n",
    "    try:\n",
    "        resource_directory = pe.DIRECTORY_ENTRY_RESOURCE\n",
    "        characteristics[\"ResourceSize\"] = resource_directory.struct.Size\n",
    "    except AttributeError:\n",
    "        characteristics[\"ResourceSize\"] = 0  # If no resource directory, set to 0\n",
    "\n",
    "    # Close the PE file\n",
    "    pe.close()\n",
    "\n",
    "    return characteristics"
   ],
   "id": "1a2b00d11b2bc894",
   "outputs": [],
   "execution_count": 13
  },
  {
   "metadata": {},
   "cell_type": "code",
   "source": [
    "# Example usage\n",
    "file_path = \"exe_files/test2.exe\"  # Path to your PE file\n",
    "pe_characteristics = extract_pe_characteristics(file_path)\n",
    "final_array = list(pe_characteristics.values())\n",
    "print(final_array)"
   ],
   "id": "fa7be10eed3dfea1",
   "outputs": [],
   "execution_count": null
  },
  {
   "metadata": {
    "ExecuteTime": {
     "end_time": "2024-12-18T15:26:12.889798Z",
     "start_time": "2024-12-18T15:26:12.884506Z"
    }
   },
   "cell_type": "code",
   "source": [
    "entry_array = np.array(final_array).reshape(1, -1)\n",
    "prediction = n_model.predict(entry_array)\n",
    "print(prediction)"
   ],
   "id": "85c2e75da6ae96d4",
   "outputs": [
    {
     "name": "stdout",
     "output_type": "stream",
     "text": [
      "[0]\n"
     ]
    },
    {
     "name": "stderr",
     "output_type": "stream",
     "text": [
      "/home/imryuik/miniconda3/lib/python3.12/site-packages/sklearn/base.py:493: UserWarning: X does not have valid feature names, but RandomForestClassifier was fitted with feature names\n",
      "  warnings.warn(\n"
     ]
    }
   ],
   "execution_count": 33
  }
 ],
 "metadata": {
  "kernelspec": {
   "display_name": "Python 3",
   "language": "python",
   "name": "python3"
  },
  "language_info": {
   "codemirror_mode": {
    "name": "ipython",
    "version": 2
   },
   "file_extension": ".py",
   "mimetype": "text/x-python",
   "name": "python",
   "nbconvert_exporter": "python",
   "pygments_lexer": "ipython2",
   "version": "2.7.6"
  }
 },
 "nbformat": 4,
 "nbformat_minor": 5
}
