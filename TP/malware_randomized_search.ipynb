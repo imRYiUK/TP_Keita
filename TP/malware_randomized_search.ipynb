{
 "cells": [
  {
   "cell_type": "code",
   "id": "initial_id",
   "metadata": {
    "collapsed": true,
    "ExecuteTime": {
     "end_time": "2024-12-21T11:53:37.565098Z",
     "start_time": "2024-12-21T11:51:22.320304Z"
    }
   },
   "source": [
    "import pandas as pd\n",
    "from sklearn.model_selection import train_test_split, RandomizedSearchCV\n",
    "from sklearn.ensemble import RandomForestClassifier\n",
    "from sklearn.metrics import classification_report, accuracy_score\n",
    "from scipy.stats import randint\n",
    "\n",
    "# Charger le dataset\n",
    "data = pd.read_csv(\"../OLD_SCRIPT/DatasetmalwareExtrait.csv\")\n",
    "\n",
    "# Séparer les caractéristiques (X) et la cible (y)\n",
    "X = data.drop(columns=[\"legitimate\"])\n",
    "y = data[\"legitimate\"]\n",
    "\n",
    "# Diviser les données en ensembles d'entraîment et de test\n",
    "X_train, X_test, y_train, y_test = train_test_split(X, y, test_size=0.2, random_state=42)\n",
    "\n",
    "# Définir le modèle et les distributions des hyperparamètres pour la recherche\n",
    "model = RandomForestClassifier(random_state=42)\n",
    "param_dist_random_forest = {\n",
    "    'n_estimators': randint(50, 150),\n",
    "    'max_depth': [10, 20],\n",
    "    'min_samples_split': randint(2, 6),\n",
    "    'min_samples_leaf': randint(1, 3)\n",
    "}\n",
    "\n",
    "# Effectuer la recherche aléatoire avec validation croisée\n",
    "random_search_random_forest = RandomizedSearchCV(\n",
    "    estimator=model,\n",
    "    param_distributions=param_dist_random_forest,\n",
    "    n_iter=50,  # Nombre d'évaluations\n",
    "    cv=5,\n",
    "    scoring='accuracy',\n",
    "    random_state=42,\n",
    "    n_jobs=-1\n",
    ")\n",
    "random_search_random_forest.fit(X_train, y_train)\n",
    "\n",
    "# Meilleurs hyperparamètres trouvés\n",
    "print(\"Meilleurs hyperparamètres :\", random_search_random_forest.best_params_)\n",
    "\n",
    "# Prédictions sur l'ensemble de test\n",
    "y_pred = random_search_random_forest.best_estimator_.predict(X_test)\n",
    "\n",
    "# Rapport de classification\n",
    "print(\"\\nRapport de classification :\\n\")\n",
    "print(classification_report(y_test, y_pred))\n",
    "\n",
    "# Méthode pour évaluer le modèle\n",
    "def evaluate_model(model, X_test, y_test):\n",
    "    accuracy = accuracy_score(y_test, model.predict(X_test))\n",
    "    print(f\"\\nPrécision du modèle : {accuracy:.2f}\")\n",
    "    return accuracy\n",
    "\n",
    "# Évaluer le modèle\n",
    "evaluate_model(random_search_random_forest.best_estimator_, X_test, y_test)"
   ],
   "outputs": [
    {
     "name": "stderr",
     "output_type": "stream",
     "text": [
      "/home/imryuik/miniconda3/lib/python3.12/site-packages/numpy/ma/core.py:2820: RuntimeWarning: invalid value encountered in cast\n",
      "  _data = np.array(data, dtype=dtype, copy=copy,\n"
     ]
    },
    {
     "name": "stdout",
     "output_type": "stream",
     "text": [
      "Meilleurs hyperparamètres : {'max_depth': 20, 'min_samples_leaf': 1, 'min_samples_split': 3, 'n_estimators': 133}\n",
      "\n",
      "Rapport de classification :\n",
      "\n",
      "              precision    recall  f1-score   support\n",
      "\n",
      "           0       0.99      0.99      0.99     19186\n",
      "           1       0.98      0.99      0.99      8303\n",
      "\n",
      "    accuracy                           0.99     27489\n",
      "   macro avg       0.99      0.99      0.99     27489\n",
      "weighted avg       0.99      0.99      0.99     27489\n",
      "\n",
      "\n",
      "Précision du modèle : 0.99\n"
     ]
    },
    {
     "data": {
      "text/plain": [
       "0.99137836952963"
      ]
     },
     "execution_count": 1,
     "metadata": {},
     "output_type": "execute_result"
    }
   ],
   "execution_count": 1
  },
  {
   "metadata": {
    "ExecuteTime": {
     "end_time": "2024-12-21T11:53:37.599123Z",
     "start_time": "2024-12-21T11:53:37.596072Z"
    }
   },
   "cell_type": "code",
   "source": "import pickle",
   "id": "96baf17be4b4f880",
   "outputs": [],
   "execution_count": 2
  },
  {
   "metadata": {
    "ExecuteTime": {
     "end_time": "2024-12-21T12:00:47.293450Z",
     "start_time": "2024-12-21T12:00:47.252937Z"
    }
   },
   "cell_type": "code",
   "source": [
    "with open('streamlit/model_pickle2', 'wb') as f:\n",
    "    pickle.dump(random_search_random_forest.best_estimator_, f)"
   ],
   "id": "8be9762a6fe7565e",
   "outputs": [],
   "execution_count": 16
  },
  {
   "metadata": {
    "ExecuteTime": {
     "end_time": "2024-12-21T12:00:49.122826Z",
     "start_time": "2024-12-21T12:00:49.085266Z"
    }
   },
   "cell_type": "code",
   "source": [
    "with open('streamlit/model_pickle2', 'rb') as f:\n",
    "    n_model = pickle.load(f)"
   ],
   "id": "c5c54967de7e0462",
   "outputs": [],
   "execution_count": 17
  },
  {
   "metadata": {
    "ExecuteTime": {
     "end_time": "2024-12-21T12:00:50.543294Z",
     "start_time": "2024-12-21T12:00:50.540979Z"
    }
   },
   "cell_type": "code",
   "source": "import numpy as np",
   "id": "61277c4df1113cd4",
   "outputs": [],
   "execution_count": 18
  },
  {
   "metadata": {
    "ExecuteTime": {
     "end_time": "2024-12-21T12:00:51.579156Z",
     "start_time": "2024-12-21T12:00:51.576256Z"
    }
   },
   "cell_type": "code",
   "source": [
    "import pefile\n",
    "\n",
    "def extract_pe_characteristics(file_path):\n",
    "    # Load the PE file\n",
    "    pe = pefile.PE(file_path)\n",
    "\n",
    "    # Extract the characteristics\n",
    "    characteristics = {\n",
    "        \"AddressOfEntryPoint\": pe.OPTIONAL_HEADER.AddressOfEntryPoint,\n",
    "        \"MajorLinkerVersion\": pe.OPTIONAL_HEADER.MajorLinkerVersion,\n",
    "        \"MajorImageVersion\": pe.OPTIONAL_HEADER.MajorImageVersion,\n",
    "        \"MajorOperatingSystemVersion\": pe.OPTIONAL_HEADER.MajorOperatingSystemVersion,\n",
    "        \"DllCharacteristics\": pe.OPTIONAL_HEADER.DllCharacteristics,\n",
    "        \"SizeOfStackReserve\": pe.OPTIONAL_HEADER.SizeOfStackReserve,\n",
    "        \"NumberOfSections\": len(pe.sections),  # Count of sections in the file\n",
    "        \"ResourceSize\": 0  # Placeholder for Resource Size\n",
    "    }\n",
    "\n",
    "    # Extract the resource size if available\n",
    "    try:\n",
    "        resource_directory = pe.DIRECTORY_ENTRY_RESOURCE\n",
    "        characteristics[\"ResourceSize\"] = resource_directory.struct.Size\n",
    "    except AttributeError:\n",
    "        characteristics[\"ResourceSize\"] = 0  # If no resource directory, set to 0\n",
    "\n",
    "    # Close the PE file\n",
    "    pe.close()\n",
    "\n",
    "    return characteristics"
   ],
   "id": "ae20305613c829c2",
   "outputs": [],
   "execution_count": 19
  },
  {
   "metadata": {
    "ExecuteTime": {
     "end_time": "2024-12-21T12:00:54.667306Z",
     "start_time": "2024-12-21T12:00:54.448159Z"
    }
   },
   "cell_type": "code",
   "source": [
    "# Example usage\n",
    "file_path = \"exe_files/test2.exe\"  # Path to your PE file\n",
    "pe_characteristics = extract_pe_characteristics(file_path)\n",
    "final_array = list(pe_characteristics.values())\n",
    "print(final_array)"
   ],
   "id": "9e07531bcccd3e05",
   "outputs": [
    {
     "name": "stdout",
     "output_type": "stream",
     "text": [
      "[5244, 10, 0, 5, 33088, 1048576, 5, 0]\n"
     ]
    }
   ],
   "execution_count": 20
  },
  {
   "metadata": {
    "ExecuteTime": {
     "end_time": "2024-12-21T12:01:11.850640Z",
     "start_time": "2024-12-21T12:01:11.844281Z"
    }
   },
   "cell_type": "code",
   "source": [
    "entry_array = np.array(final_array).reshape(1, -1)\n",
    "prediction = n_model.predict(entry_array)\n",
    "print(prediction)"
   ],
   "id": "d017f9e98361c5e0",
   "outputs": [
    {
     "name": "stdout",
     "output_type": "stream",
     "text": [
      "[0]\n"
     ]
    },
    {
     "name": "stderr",
     "output_type": "stream",
     "text": [
      "/home/imryuik/miniconda3/lib/python3.12/site-packages/sklearn/base.py:493: UserWarning: X does not have valid feature names, but RandomForestClassifier was fitted with feature names\n",
      "  warnings.warn(\n"
     ]
    }
   ],
   "execution_count": 22
  }
 ],
 "metadata": {
  "kernelspec": {
   "display_name": "Python 3",
   "language": "python",
   "name": "python3"
  },
  "language_info": {
   "codemirror_mode": {
    "name": "ipython",
    "version": 2
   },
   "file_extension": ".py",
   "mimetype": "text/x-python",
   "name": "python",
   "nbconvert_exporter": "python",
   "pygments_lexer": "ipython2",
   "version": "2.7.6"
  }
 },
 "nbformat": 4,
 "nbformat_minor": 5
}
