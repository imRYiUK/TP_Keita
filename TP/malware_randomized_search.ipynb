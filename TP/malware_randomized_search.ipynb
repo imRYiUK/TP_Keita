{
 "cells": [
  {
   "cell_type": "code",
   "id": "initial_id",
   "metadata": {
    "collapsed": true,
    "ExecuteTime": {
     "end_time": "2024-12-12T13:44:02.321861Z",
     "start_time": "2024-12-12T13:41:49.799480Z"
    }
   },
   "source": [
    "import pandas as pd\n",
    "from sklearn.model_selection import train_test_split, RandomizedSearchCV\n",
    "from sklearn.ensemble import RandomForestClassifier\n",
    "from sklearn.metrics import classification_report, accuracy_score\n",
    "from scipy.stats import randint\n",
    "\n",
    "# Charger le dataset\n",
    "data = pd.read_csv(\"../OLD_SCRIPT/DatasetmalwareExtrait.csv\")\n",
    "\n",
    "# Séparer les caractéristiques (X) et la cible (y)\n",
    "X = data.drop(columns=[\"legitimate\"])\n",
    "y = data[\"legitimate\"]\n",
    "\n",
    "# Diviser les données en ensembles d'entraîment et de test\n",
    "X_train, X_test, y_train, y_test = train_test_split(X, y, test_size=0.2, random_state=42)\n",
    "\n",
    "# Définir le modèle et les distributions des hyperparamètres pour la recherche\n",
    "model = RandomForestClassifier(random_state=42)\n",
    "param_dist_random_forest = {\n",
    "    'n_estimators': randint(50, 150),\n",
    "    'max_depth': [10, 20],\n",
    "    'min_samples_split': randint(2, 6),\n",
    "    'min_samples_leaf': randint(1, 3)\n",
    "}\n",
    "\n",
    "# Effectuer la recherche aléatoire avec validation croisée\n",
    "random_search_random_forest = RandomizedSearchCV(\n",
    "    estimator=model,\n",
    "    param_distributions=param_dist_random_forest,\n",
    "    n_iter=50,  # Nombre d'évaluations\n",
    "    cv=5,\n",
    "    scoring='accuracy',\n",
    "    random_state=42,\n",
    "    n_jobs=-1\n",
    ")\n",
    "random_search_random_forest.fit(X_train, y_train)\n",
    "\n",
    "# Meilleurs hyperparamètres trouvés\n",
    "print(\"Meilleurs hyperparamètres :\", random_search_random_forest.best_params_)\n",
    "\n",
    "# Prédictions sur l'ensemble de test\n",
    "y_pred = random_search_random_forest.best_estimator_.predict(X_test)\n",
    "\n",
    "# Rapport de classification\n",
    "print(\"\\nRapport de classification :\\n\")\n",
    "print(classification_report(y_test, y_pred))\n",
    "\n",
    "# Méthode pour évaluer le modèle\n",
    "def evaluate_model(model, X_test, y_test):\n",
    "    accuracy = accuracy_score(y_test, model.predict(X_test))\n",
    "    print(f\"\\nPrécision du modèle : {accuracy:.2f}\")\n",
    "    return accuracy\n",
    "\n",
    "# Évaluer le modèle\n",
    "evaluate_model(random_search_random_forest.best_estimator_, X_test, y_test)"
   ],
   "outputs": [
    {
     "name": "stdout",
     "output_type": "stream",
     "text": [
      "Meilleurs hyperparamètres : {'max_depth': 20, 'min_samples_leaf': 1, 'min_samples_split': 3, 'n_estimators': 133}\n",
      "\n",
      "Rapport de classification :\n",
      "\n",
      "              precision    recall  f1-score   support\n",
      "\n",
      "           0       0.99      0.99      0.99     19186\n",
      "           1       0.98      0.99      0.99      8303\n",
      "\n",
      "    accuracy                           0.99     27489\n",
      "   macro avg       0.99      0.99      0.99     27489\n",
      "weighted avg       0.99      0.99      0.99     27489\n",
      "\n",
      "\n",
      "Précision du modèle : 0.99\n"
     ]
    },
    {
     "data": {
      "text/plain": [
       "0.99137836952963"
      ]
     },
     "execution_count": 2,
     "metadata": {},
     "output_type": "execute_result"
    }
   ],
   "execution_count": 2
  }
 ],
 "metadata": {
  "kernelspec": {
   "display_name": "Python 3",
   "language": "python",
   "name": "python3"
  },
  "language_info": {
   "codemirror_mode": {
    "name": "ipython",
    "version": 2
   },
   "file_extension": ".py",
   "mimetype": "text/x-python",
   "name": "python",
   "nbconvert_exporter": "python",
   "pygments_lexer": "ipython2",
   "version": "2.7.6"
  }
 },
 "nbformat": 4,
 "nbformat_minor": 5
}
